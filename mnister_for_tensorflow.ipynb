{
  "nbformat": 4,
  "nbformat_minor": 0,
  "metadata": {
    "colab": {
      "name": "mnister for tensorflow.ipynb",
      "provenance": [],
      "collapsed_sections": []
    },
    "kernelspec": {
      "name": "python3",
      "display_name": "Python 3"
    }
  },
  "cells": [
    {
      "cell_type": "code",
      "metadata": {
        "colab": {
          "base_uri": "https://localhost:8080/"
        },
        "id": "eXipGtGPFNNy",
        "outputId": "809ae60d-85d7-4f50-ea6a-31178e3b0a07"
      },
      "source": [
        "!git clone https://github.com/PoodleMaster/mnister_for_tensorflow"
      ],
      "execution_count": 3,
      "outputs": [
        {
          "output_type": "stream",
          "text": [
            "Cloning into 'mnister_for_tensorflow'...\n",
            "remote: Enumerating objects: 17, done.\u001b[K\n",
            "remote: Counting objects: 100% (17/17), done.\u001b[K\n",
            "remote: Compressing objects: 100% (15/15), done.\u001b[K\n",
            "remote: Total 17 (delta 2), reused 0 (delta 0), pack-reused 0\u001b[K\n",
            "Unpacking objects: 100% (17/17), done.\n"
          ],
          "name": "stdout"
        }
      ]
    },
    {
      "cell_type": "code",
      "metadata": {
        "colab": {
          "base_uri": "https://localhost:8080/"
        },
        "id": "aVcr1qfCFz7d",
        "outputId": "16b19de2-4533-458b-dd89-4647fcf035f2"
      },
      "source": [
        "%cd mnister_for_tensorflow/"
      ],
      "execution_count": 4,
      "outputs": [
        {
          "output_type": "stream",
          "text": [
            "/content/mnister_for_tensorflow\n"
          ],
          "name": "stdout"
        }
      ]
    },
    {
      "cell_type": "code",
      "metadata": {
        "colab": {
          "base_uri": "https://localhost:8080/"
        },
        "id": "uD8Pu5zvGDa_",
        "outputId": "3bd5919b-8d82-4d03-8619-9a3ef7e1b9f5"
      },
      "source": [
        "pip install flask_ngrok"
      ],
      "execution_count": 8,
      "outputs": [
        {
          "output_type": "stream",
          "text": [
            "Collecting flask_ngrok\n",
            "  Downloading https://files.pythonhosted.org/packages/af/6c/f54cb686ad1129e27d125d182f90f52b32f284e6c8df58c1bae54fa1adbc/flask_ngrok-0.0.25-py3-none-any.whl\n",
            "Requirement already satisfied: Flask>=0.8 in /usr/local/lib/python3.6/dist-packages (from flask_ngrok) (1.1.2)\n",
            "Requirement already satisfied: requests in /usr/local/lib/python3.6/dist-packages (from flask_ngrok) (2.23.0)\n",
            "Requirement already satisfied: itsdangerous>=0.24 in /usr/local/lib/python3.6/dist-packages (from Flask>=0.8->flask_ngrok) (1.1.0)\n",
            "Requirement already satisfied: Werkzeug>=0.15 in /usr/local/lib/python3.6/dist-packages (from Flask>=0.8->flask_ngrok) (1.0.1)\n",
            "Requirement already satisfied: Jinja2>=2.10.1 in /usr/local/lib/python3.6/dist-packages (from Flask>=0.8->flask_ngrok) (2.11.2)\n",
            "Requirement already satisfied: click>=5.1 in /usr/local/lib/python3.6/dist-packages (from Flask>=0.8->flask_ngrok) (7.1.2)\n",
            "Requirement already satisfied: chardet<4,>=3.0.2 in /usr/local/lib/python3.6/dist-packages (from requests->flask_ngrok) (3.0.4)\n",
            "Requirement already satisfied: certifi>=2017.4.17 in /usr/local/lib/python3.6/dist-packages (from requests->flask_ngrok) (2020.11.8)\n",
            "Requirement already satisfied: urllib3!=1.25.0,!=1.25.1,<1.26,>=1.21.1 in /usr/local/lib/python3.6/dist-packages (from requests->flask_ngrok) (1.24.3)\n",
            "Requirement already satisfied: idna<3,>=2.5 in /usr/local/lib/python3.6/dist-packages (from requests->flask_ngrok) (2.10)\n",
            "Requirement already satisfied: MarkupSafe>=0.23 in /usr/local/lib/python3.6/dist-packages (from Jinja2>=2.10.1->Flask>=0.8->flask_ngrok) (1.1.1)\n",
            "Installing collected packages: flask-ngrok\n",
            "Successfully installed flask-ngrok-0.0.25\n"
          ],
          "name": "stdout"
        }
      ]
    },
    {
      "cell_type": "markdown",
      "metadata": {
        "id": "gWzF92oOH7je"
      },
      "source": [
        "# Upload `[export model]` to `[mnister_for_tensorflow]` folder.\n",
        "<BR>\n",
        "export model<BR>\n",
        "    │<BR>\n",
        "    ├─example<BR>\n",
        "    │     │<BR>\n",
        "    │     ├─README.md<BR>\n",
        "    │     ├─requirements.txt<BR>\n",
        "    │     └─tf_example.py<BR>\n",
        "    │<BR>\n",
        "    ├─variables<BR>\n",
        "    │     │<BR>\n",
        "    │     ├─variables.data-00000-of-00001<BR>\n",
        "    │     └─variables.index<BR>\n",
        "    │<BR>\n",
        "    ├─saved_model.pb<BR>\n",
        "    └─signature.json<BR>"
      ]
    },
    {
      "cell_type": "code",
      "metadata": {
        "colab": {
          "base_uri": "https://localhost:8080/"
        },
        "id": "OD6fTo1yGw-m",
        "outputId": "2caa3936-b483-4443-fa30-33bc9e3201d5"
      },
      "source": [
        "!pwd\n",
        "!ls -lR"
      ],
      "execution_count": 40,
      "outputs": [
        {
          "output_type": "stream",
          "text": [
            "/content/mnister_for_tensorflow\n",
            ".:\n",
            "total 28\n",
            "drwxr-xr-x 4 root root 4096 Nov 24 02:34 'export model'\n",
            "-rw-r--r-- 1 root root 1070 Nov 24 02:31  LICENSE\n",
            "-rw-r--r-- 1 root root 1007 Nov 24 02:31  README.md\n",
            "-rw-r--r-- 1 root root 5972 Nov 24 02:31  server.py\n",
            "drwxr-xr-x 2 root root 4096 Nov 24 02:31  static\n",
            "drwxr-xr-x 2 root root 4096 Nov 24 02:31  templates\n",
            "\n",
            "'./export model':\n",
            "total 2144\n",
            "-rw-r--r-- 1 root root 2187065 Nov 24 02:34 saved_model.pb\n",
            "-rw-r--r-- 1 root root     869 Nov 24 02:34 signature.json\n",
            "drwxr-xr-x 2 root root    4096 Nov 24 02:35 variables\n",
            "\n",
            "'./export model/variables':\n",
            "total 102336\n",
            "-rw-r--r-- 1 root root 104771624 Nov 24 02:44 variables.data-00000-of-00001\n",
            "-rw-r--r-- 1 root root     10522 Nov 24 02:35 variables.index\n",
            "\n",
            "./static:\n",
            "total 32\n",
            "-rw-r--r-- 1 root root 15406 Nov 24 02:31 favicon.ico\n",
            "-rw-r--r-- 1 root root  1714 Nov 24 02:31 GitHub-Mark-32px.png\n",
            "-rw-r--r-- 1 root root  7847 Nov 24 02:31 Input.js\n",
            "-rw-r--r-- 1 root root  2016 Nov 24 02:31 mnister-Mark-28px.png\n",
            "\n",
            "./templates:\n",
            "total 8\n",
            "-rw-r--r-- 1 root root 4278 Nov 24 02:31 index.html\n"
          ],
          "name": "stdout"
        }
      ]
    },
    {
      "cell_type": "code",
      "metadata": {
        "colab": {
          "base_uri": "https://localhost:8080/"
        },
        "id": "tNis88J0F3dH",
        "outputId": "c6a9dd33-9046-467a-97c0-f0358d8ba8e8"
      },
      "source": [
        "!python server.py -h"
      ],
      "execution_count": 36,
      "outputs": [
        {
          "output_type": "stream",
          "text": [
            "2020-11-24 02:57:43.381953: I tensorflow/stream_executor/platform/default/dso_loader.cc:48] Successfully opened dynamic library libcudart.so.10.1\n",
            "tensorflow :  2.3.0\n",
            "usage: server.py [-h] [-c]\n",
            "\n",
            "optional arguments:\n",
            "  -h, --help   show this help message and exit\n",
            "  -c, --colab  Specify when running on Google Colab.(use flask-ngrok)\n"
          ],
          "name": "stdout"
        }
      ]
    },
    {
      "cell_type": "code",
      "metadata": {
        "colab": {
          "base_uri": "https://localhost:8080/"
        },
        "id": "J3wAhmFCGOQz",
        "outputId": "5458309f-4e31-4832-c763-aa3315404311"
      },
      "source": [
        "!python server.py -c"
      ],
      "execution_count": 38,
      "outputs": [
        {
          "output_type": "stream",
          "text": [
            "2020-11-24 02:58:54.879392: I tensorflow/stream_executor/platform/default/dso_loader.cc:48] Successfully opened dynamic library libcudart.so.10.1\n",
            "tensorflow :  2.3.0\n",
            "use flask-ngrok.\n",
            "2020-11-24 02:58:57.691484: I tensorflow/stream_executor/platform/default/dso_loader.cc:48] Successfully opened dynamic library libcuda.so.1\n",
            "2020-11-24 02:58:57.700687: E tensorflow/stream_executor/cuda/cuda_driver.cc:314] failed call to cuInit: CUDA_ERROR_NO_DEVICE: no CUDA-capable device is detected\n",
            "2020-11-24 02:58:57.700736: I tensorflow/stream_executor/cuda/cuda_diagnostics.cc:156] kernel driver does not appear to be running on this host (0ecad5cbe011): /proc/driver/nvidia/version does not exist\n",
            "2020-11-24 02:58:57.706892: I tensorflow/core/platform/profile_utils/cpu_utils.cc:104] CPU Frequency: 2200000000 Hz\n",
            "2020-11-24 02:58:57.707130: I tensorflow/compiler/xla/service/service.cc:168] XLA service 0x78de4c0 initialized for platform Host (this does not guarantee that XLA will be used). Devices:\n",
            "2020-11-24 02:58:57.707169: I tensorflow/compiler/xla/service/service.cc:176]   StreamExecutor device (0): Host, Default Version\n",
            " * Serving Flask app \"server\" (lazy loading)\n",
            " * Environment: production\n",
            "\u001b[31m   WARNING: This is a development server. Do not use it in a production deployment.\u001b[0m\n",
            "\u001b[2m   Use a production WSGI server instead.\u001b[0m\n",
            " * Debug mode: off\n",
            " * Running on http://127.0.0.1:5000/ (Press CTRL+C to quit)\n",
            " * Running on http://e4d6e9847688.ngrok.io\n",
            " * Traffic stats available on http://127.0.0.1:4040\n",
            "127.0.0.1 - - [24/Nov/2020 02:59:10] \"\u001b[37mGET / HTTP/1.1\u001b[0m\" 200 -\n",
            "127.0.0.1 - - [24/Nov/2020 02:59:11] \"\u001b[37mGET /static/Input.js HTTP/1.1\u001b[0m\" 200 -\n",
            "127.0.0.1 - - [24/Nov/2020 02:59:11] \"\u001b[37mGET /static/GitHub-Mark-32px.png HTTP/1.1\u001b[0m\" 200 -\n",
            "127.0.0.1 - - [24/Nov/2020 02:59:11] \"\u001b[37mGET /static/mnister-Mark-28px.png HTTP/1.1\u001b[0m\" 200 -\n",
            "127.0.0.1 - - [24/Nov/2020 02:59:11] \"\u001b[37mGET /static/favicon.ico HTTP/1.1\u001b[0m\" 200 -\n",
            "推測結果： 5\n",
            "確率    ： 0.9693165421\n",
            "\n",
            "0 0.0000000000\n",
            "1 0.0000078089\n",
            "2 0.0289234631\n",
            "3 0.0000845721\n",
            "4 0.0000048376\n",
            "5 0.9693165421\n",
            "6 0.0000003977\n",
            "7 0.0011820752\n",
            "8 0.0002943696\n",
            "9 0.0001858570\n",
            "\n",
            "127.0.0.1 - - [24/Nov/2020 02:59:20] \"\u001b[37mPOST /output HTTP/1.1\u001b[0m\" 200 -\n",
            "^C\n"
          ],
          "name": "stdout"
        }
      ]
    }
  ]
}